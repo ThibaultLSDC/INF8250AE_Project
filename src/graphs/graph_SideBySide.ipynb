{
 "cells": [
  {
   "cell_type": "code",
   "execution_count": 1,
   "metadata": {},
   "outputs": [],
   "source": [
    "import cv2\n",
    "import numpy as np\n",
    "\n",
    "def combine_images(image1_path, image2_path, output_path):\n",
    "    # Read the images\n",
    "    image1 = cv2.imread(image1_path)\n",
    "    image2 = cv2.imread(image2_path)\n",
    "\n",
    "    # Concatenate the images horizontally\n",
    "    combined_image = np.concatenate((image1, image2), axis=1)\n",
    "\n",
    "    # Save the combined image\n",
    "    cv2.imwrite(output_path, combined_image)"
   ]
  },
  {
   "cell_type": "markdown",
   "metadata": {},
   "source": [
    "Q-learning"
   ]
  },
  {
   "cell_type": "code",
   "execution_count": 10,
   "metadata": {},
   "outputs": [],
   "source": [
    "# Discrete\n",
    "graph1 = 'C:/Users/nicle/OneDrive/Bureau/Automne 2023/INF8250AE - Reinforcement learning/INF8250AE_Project/src/graphs/Discrete Q-learning Q-vals after 1000 steps.png'\n",
    "graph2 = 'C:/Users/nicle/OneDrive/Bureau/Automne 2023/INF8250AE - Reinforcement learning/INF8250AE_Project/src/graphs/Discrete Q-learning Q-vals after 250000 steps.png'\n",
    "\n",
    "combine_images(graph1, graph2, 'C:/Users/nicle/OneDrive/Bureau/Automne 2023/INF8250AE - Reinforcement learning/INF8250AE_Project/src/graphs/Discrete Q-learning Q-vals combined graph.png')\n"
   ]
  },
  {
   "cell_type": "code",
   "execution_count": 11,
   "metadata": {},
   "outputs": [],
   "source": [
    "# Stochastic\n",
    "graph1 = 'C:/Users/nicle/OneDrive/Bureau/Automne 2023/INF8250AE - Reinforcement learning/INF8250AE_Project/src/graphs/Stochastic Q-learning Q-vals after 1000 steps.png'\n",
    "graph2 = 'C:/Users/nicle/OneDrive/Bureau/Automne 2023/INF8250AE - Reinforcement learning/INF8250AE_Project/src/graphs/Stochastic Q-learning Q-vals after 250000 steps.png'\n",
    "\n",
    "combine_images(graph1, graph2, 'C:/Users/nicle/OneDrive/Bureau/Automne 2023/INF8250AE - Reinforcement learning/INF8250AE_Project/src/graphs/Stochastic Q-learning Q-vals combined graph.png')\n",
    "\n"
   ]
  },
  {
   "cell_type": "markdown",
   "metadata": {},
   "source": [
    "Dyna-Q"
   ]
  },
  {
   "cell_type": "code",
   "execution_count": 9,
   "metadata": {},
   "outputs": [],
   "source": [
    "# Discrete\n",
    "graph1 = 'C:/Users/nicle/OneDrive/Bureau/Automne 2023/INF8250AE - Reinforcement learning/INF8250AE_Project/src/graphs/Discrete Dyna-Q Q-vals after 1000 steps.png'\n",
    "graph2 = 'C:/Users/nicle/OneDrive/Bureau/Automne 2023/INF8250AE - Reinforcement learning/INF8250AE_Project/src/graphs/Discrete Dyna-Q Q-vals after 250000 steps.png'\n",
    "\n",
    "combine_images(graph1, graph2, 'C:/Users/nicle/OneDrive/Bureau/Automne 2023/INF8250AE - Reinforcement learning/INF8250AE_Project/src/graphs/Discrete Dyna-Q Q-vals combined graph.png')\n"
   ]
  },
  {
   "cell_type": "code",
   "execution_count": 12,
   "metadata": {},
   "outputs": [],
   "source": [
    "# Stochastic\n",
    "graph1 = 'C:/Users/nicle/OneDrive/Bureau/Automne 2023/INF8250AE - Reinforcement learning/INF8250AE_Project/src/graphs/Stochastic Dyna-Q Q-vals after 1000 steps.png'\n",
    "graph2 = 'C:/Users/nicle/OneDrive/Bureau/Automne 2023/INF8250AE - Reinforcement learning/INF8250AE_Project/src/graphs/Stochastic Dyna-Q Q-vals after 250000 steps.png'\n",
    "\n",
    "combine_images(graph1, graph2, 'C:/Users/nicle/OneDrive/Bureau/Automne 2023/INF8250AE - Reinforcement learning/INF8250AE_Project/src/graphs/Stochastic Dyna-Q Q-vals combined graph.png')\n"
   ]
  },
  {
   "cell_type": "markdown",
   "metadata": {},
   "source": [
    "Dyna-Q+"
   ]
  },
  {
   "cell_type": "code",
   "execution_count": null,
   "metadata": {},
   "outputs": [],
   "source": [
    "# Discrete\n",
    "graph1 = 'C:/Users/nicle/OneDrive/Bureau/Automne 2023/INF8250AE - Reinforcement learning/INF8250AE_Project/src/graphs/Discrete Dyna-Q+ Q-vals after 1000 steps.png'\n",
    "graph2 = 'C:/Users/nicle/OneDrive/Bureau/Automne 2023/INF8250AE - Reinforcement learning/INF8250AE_Project/src/graphs/Discrete Dyna-Q+ Q-vals after 250000 steps.png'\n",
    "\n",
    "combine_images(graph1, graph2, 'C:/Users/nicle/OneDrive/Bureau/Automne 2023/INF8250AE - Reinforcement learning/INF8250AE_Project/src/graphs/Discrete Dyna-Q+ Q-vals combined graph.png')\n"
   ]
  },
  {
   "cell_type": "code",
   "execution_count": null,
   "metadata": {},
   "outputs": [],
   "source": [
    "# Stochastic\n",
    "graph1 = 'C:/Users/nicle/OneDrive/Bureau/Automne 2023/INF8250AE - Reinforcement learning/INF8250AE_Project/src/graphs/Stochastic Dyna-Q+ Q-vals after 1000 steps.png'\n",
    "graph2 = 'C:/Users/nicle/OneDrive/Bureau/Automne 2023/INF8250AE - Reinforcement learning/INF8250AE_Project/src/graphs/Stochastic Dyna-Q+ Q-vals after 250000 steps.png'\n",
    "\n",
    "combine_images(graph1, graph2, 'C:/Users/nicle/OneDrive/Bureau/Automne 2023/INF8250AE - Reinforcement learning/INF8250AE_Project/src/graphs/Stochastic Dyna-Q+ Q-vals combined graph.png')\n"
   ]
  }
 ],
 "metadata": {
  "kernelspec": {
   "display_name": "Python 3",
   "language": "python",
   "name": "python3"
  },
  "language_info": {
   "codemirror_mode": {
    "name": "ipython",
    "version": 3
   },
   "file_extension": ".py",
   "mimetype": "text/x-python",
   "name": "python",
   "nbconvert_exporter": "python",
   "pygments_lexer": "ipython3",
   "version": "3.11.7"
  }
 },
 "nbformat": 4,
 "nbformat_minor": 2
}
