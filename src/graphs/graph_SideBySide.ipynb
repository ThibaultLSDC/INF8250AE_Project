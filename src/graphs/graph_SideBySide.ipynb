{
 "cells": [
  {
   "cell_type": "code",
   "execution_count": 1,
   "metadata": {},
   "outputs": [],
   "source": [
    "import cv2\n",
    "import numpy as np\n",
    "\n",
    "def combine_images(image1_path, image2_path, output_path):\n",
    "    # Read the images\n",
    "    image1 = cv2.imread(image1_path)\n",
    "    image2 = cv2.imread(image2_path)\n",
    "\n",
    "    # Concatenate the images horizontally\n",
    "    combined_image = np.concatenate((image1, image2), axis=1)\n",
    "\n",
    "    # Save the combined image\n",
    "    cv2.imwrite(output_path, combined_image)"
   ]
  },
  {
   "cell_type": "markdown",
   "metadata": {},
   "source": [
    "Q-learning"
   ]
  },
  {
   "cell_type": "code",
   "execution_count": 3,
   "metadata": {},
   "outputs": [],
   "source": [
    "# Discrete\n",
    "graph1 = 'C:/Users/nicle/OneDrive/Bureau/Automne 2023/INF8250AE - Reinforcement learning/INF8250AE_Project/src/graphs/Discrete Q-learning Q-vals after 1000 steps.png'\n",
    "graph2 = 'C:/Users/nicle/OneDrive/Bureau/Automne 2023/INF8250AE - Reinforcement learning/INF8250AE_Project/src/graphs/Discrete Q-learning Q-vals after 250000 steps.png'\n",
    "\n",
    "combine_images(graph1, graph2, 'C:/Users/nicle/OneDrive/Bureau/Automne 2023/INF8250AE - Reinforcement learning/INF8250AE_Project/src/graphs/Discrete Q-learning Q-vals combined graph.png')\n"
   ]
  },
  {
   "cell_type": "code",
   "execution_count": 4,
   "metadata": {},
   "outputs": [],
   "source": [
    "# Stochastic\n",
    "graph1 = 'C:/Users/nicle/OneDrive/Bureau/Automne 2023/INF8250AE - Reinforcement learning/INF8250AE_Project/src/graphs/Stochastic Q-learning Q-vals after 1000 steps.png'\n",
    "graph2 = 'C:/Users/nicle/OneDrive/Bureau/Automne 2023/INF8250AE - Reinforcement learning/INF8250AE_Project/src/graphs/Stochastic Q-learning Q-vals after 250000 steps.png'\n",
    "\n",
    "combine_images(graph1, graph2, 'C:/Users/nicle/OneDrive/Bureau/Automne 2023/INF8250AE - Reinforcement learning/INF8250AE_Project/src/graphs/Stochastic Q-learning Q-vals combined graph.png')\n",
    "\n"
   ]
  },
  {
   "cell_type": "markdown",
   "metadata": {},
   "source": [
    "Q-planning"
   ]
  },
  {
   "cell_type": "code",
   "execution_count": 2,
   "metadata": {},
   "outputs": [],
   "source": [
    "# Discrete\n",
    "graph1 = '/Users/antoine/Poly/INF8250/INF8250AE_Project/src/graphs/Q planning 1000 steps deterministic.png'\n",
    "graph2 = '/Users/antoine/Poly/INF8250/INF8250AE_Project/src/graphs/Q planning final values deterministic.png'\n",
    "\n",
    "combine_images(graph1, graph2, '/Users/antoine/Poly/INF8250/INF8250AE_Project/src/graphs/Q planning values deterministic combined.png')\n"
   ]
  },
  {
   "cell_type": "code",
   "execution_count": 3,
   "metadata": {},
   "outputs": [],
   "source": [
    "# Stochastic\n",
    "graph1 = '/Users/antoine/Poly/INF8250/INF8250AE_Project/src/graphs/Q planning 1000 steps stochastic.png'\n",
    "graph2 = '/Users/antoine/Poly/INF8250/INF8250AE_Project/src/graphs/Q planning final values stochastic.png'\n",
    "\n",
    "combine_images(graph1, graph2, '/Users/antoine/Poly/INF8250/INF8250AE_Project/src/graphs/Q planning values stochastic combined.png')"
   ]
  },
  {
   "cell_type": "markdown",
   "metadata": {},
   "source": [
    "Dyna-Q"
   ]
  },
  {
   "cell_type": "code",
   "execution_count": 5,
   "metadata": {},
   "outputs": [
    {
     "ename": "ValueError",
     "evalue": "zero-dimensional arrays cannot be concatenated",
     "output_type": "error",
     "traceback": [
      "\u001b[1;31m---------------------------------------------------------------------------\u001b[0m",
      "\u001b[1;31mValueError\u001b[0m                                Traceback (most recent call last)",
      "Cell \u001b[1;32mIn[5], line 5\u001b[0m\n\u001b[0;32m      2\u001b[0m graph1 \u001b[38;5;241m=\u001b[39m \u001b[38;5;124m'\u001b[39m\u001b[38;5;124mC:/Users/nicle/OneDrive/Bureau/Automne 2023/INF8250AE - Reinforcement learning/INF8250AE_Project/src/graphs/Discrete Dyna-Q Q-vals after 1000 steps.png\u001b[39m\u001b[38;5;124m'\u001b[39m\n\u001b[0;32m      3\u001b[0m graph2 \u001b[38;5;241m=\u001b[39m \u001b[38;5;124m'\u001b[39m\u001b[38;5;124mC:/Users/nicle/OneDrive/Bureau/Automne 2023/INF8250AE - Reinforcement learning/INF8250AE_Project/src/graphs/Discrete Dyna-Q Q-vals after 250000 steps.png\u001b[39m\u001b[38;5;124m'\u001b[39m\n\u001b[1;32m----> 5\u001b[0m \u001b[43mcombine_images\u001b[49m\u001b[43m(\u001b[49m\u001b[43mgraph1\u001b[49m\u001b[43m,\u001b[49m\u001b[43m \u001b[49m\u001b[43mgraph2\u001b[49m\u001b[43m,\u001b[49m\u001b[43m \u001b[49m\u001b[38;5;124;43m'\u001b[39;49m\u001b[38;5;124;43mC:/Users/nicle/OneDrive/Bureau/Automne 2023/INF8250AE - Reinforcement learning/INF8250AE_Project/src/graphs/Discrete Dyna-Q Q-vals combined graph.png\u001b[39;49m\u001b[38;5;124;43m'\u001b[39;49m\u001b[43m)\u001b[49m\n",
      "Cell \u001b[1;32mIn[2], line 10\u001b[0m, in \u001b[0;36mcombine_images\u001b[1;34m(image1_path, image2_path, output_path)\u001b[0m\n\u001b[0;32m      7\u001b[0m image2 \u001b[38;5;241m=\u001b[39m cv2\u001b[38;5;241m.\u001b[39mimread(image2_path)\n\u001b[0;32m      9\u001b[0m \u001b[38;5;66;03m# Concatenate the images horizontally\u001b[39;00m\n\u001b[1;32m---> 10\u001b[0m combined_image \u001b[38;5;241m=\u001b[39m \u001b[43mnp\u001b[49m\u001b[38;5;241;43m.\u001b[39;49m\u001b[43mconcatenate\u001b[49m\u001b[43m(\u001b[49m\u001b[43m(\u001b[49m\u001b[43mimage1\u001b[49m\u001b[43m,\u001b[49m\u001b[43m \u001b[49m\u001b[43mimage2\u001b[49m\u001b[43m)\u001b[49m\u001b[43m,\u001b[49m\u001b[43m \u001b[49m\u001b[43maxis\u001b[49m\u001b[38;5;241;43m=\u001b[39;49m\u001b[38;5;241;43m1\u001b[39;49m\u001b[43m)\u001b[49m\n\u001b[0;32m     12\u001b[0m \u001b[38;5;66;03m# Save the combined image\u001b[39;00m\n\u001b[0;32m     13\u001b[0m cv2\u001b[38;5;241m.\u001b[39mimwrite(output_path, combined_image)\n",
      "File \u001b[1;32m<__array_function__ internals>:200\u001b[0m, in \u001b[0;36mconcatenate\u001b[1;34m(*args, **kwargs)\u001b[0m\n",
      "\u001b[1;31mValueError\u001b[0m: zero-dimensional arrays cannot be concatenated"
     ]
    }
   ],
   "source": [
    "# Discrete\n",
    "graph1 = 'C:/Users/nicle/OneDrive/Bureau/Automne 2023/INF8250AE - Reinforcement learning/INF8250AE_Project/src/graphs/Discrete Dyna-Q Q-vals after 1000 steps.png'\n",
    "graph2 = 'C:/Users/nicle/OneDrive/Bureau/Automne 2023/INF8250AE - Reinforcement learning/INF8250AE_Project/src/graphs/Discrete Dyna-Q Q-vals after 250000 steps.png'\n",
    "\n",
    "combine_images(graph1, graph2, 'C:/Users/nicle/OneDrive/Bureau/Automne 2023/INF8250AE - Reinforcement learning/INF8250AE_Project/src/graphs/Discrete Dyna-Q Q-vals combined graph.png')\n"
   ]
  },
  {
   "cell_type": "code",
   "execution_count": 6,
   "metadata": {},
   "outputs": [],
   "source": [
    "# Stochastic\n",
    "graph1 = 'C:/Users/nicle/OneDrive/Bureau/Automne 2023/INF8250AE - Reinforcement learning/INF8250AE_Project/src/graphs/Stochastic Dyna-Q Q-vals after 1000 steps.png'\n",
    "graph2 = 'C:/Users/nicle/OneDrive/Bureau/Automne 2023/INF8250AE - Reinforcement learning/INF8250AE_Project/src/graphs/Stochastic Dyna-Q Q-vals after 250000 steps.png'\n",
    "\n",
    "combine_images(graph1, graph2, 'C:/Users/nicle/OneDrive/Bureau/Automne 2023/INF8250AE - Reinforcement learning/INF8250AE_Project/src/graphs/Stochastic Dyna-Q Q-vals combined graph.png')\n"
   ]
  },
  {
   "cell_type": "markdown",
   "metadata": {},
   "source": [
    "Dyna-Q+"
   ]
  },
  {
   "cell_type": "code",
   "execution_count": 7,
   "metadata": {},
   "outputs": [],
   "source": [
    "# Discrete\n",
    "graph1 = 'C:/Users/nicle/OneDrive/Bureau/Automne 2023/INF8250AE - Reinforcement learning/INF8250AE_Project/src/graphs/Discrete Dyna-Q+ Q-vals after 1000 steps.png'\n",
    "graph2 = 'C:/Users/nicle/OneDrive/Bureau/Automne 2023/INF8250AE - Reinforcement learning/INF8250AE_Project/src/graphs/Discrete Dyna-Q+ Q-vals after 250000 steps.png'\n",
    "\n",
    "combine_images(graph1, graph2, 'C:/Users/nicle/OneDrive/Bureau/Automne 2023/INF8250AE - Reinforcement learning/INF8250AE_Project/src/graphs/Discrete Dyna-Q+ Q-vals combined graph.png')\n"
   ]
  },
  {
   "cell_type": "code",
   "execution_count": 8,
   "metadata": {},
   "outputs": [],
   "source": [
    "# Stochastic\n",
    "graph1 = 'C:/Users/nicle/OneDrive/Bureau/Automne 2023/INF8250AE - Reinforcement learning/INF8250AE_Project/src/graphs/Stochastic Dyna-Q+ Q-vals after 1000 steps.png'\n",
    "graph2 = 'C:/Users/nicle/OneDrive/Bureau/Automne 2023/INF8250AE - Reinforcement learning/INF8250AE_Project/src/graphs/Stochastic Dyna-Q+ Q-vals after 250000 steps.png'\n",
    "\n",
    "combine_images(graph1, graph2, 'C:/Users/nicle/OneDrive/Bureau/Automne 2023/INF8250AE - Reinforcement learning/INF8250AE_Project/src/graphs/Stochastic Dyna-Q+ Q-vals combined graph.png')\n"
   ]
  }
 ],
 "metadata": {
  "kernelspec": {
   "display_name": "Python 3",
   "language": "python",
   "name": "python3"
  },
  "language_info": {
   "codemirror_mode": {
    "name": "ipython",
    "version": 3
   },
   "file_extension": ".py",
   "mimetype": "text/x-python",
   "name": "python",
   "nbconvert_exporter": "python",
   "pygments_lexer": "ipython3",
   "version": "3.11.6"
  }
 },
 "nbformat": 4,
 "nbformat_minor": 2
}
